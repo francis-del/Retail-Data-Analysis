{
 "cells": [
  {
   "cell_type": "code",
   "execution_count": null,
   "metadata": {},
   "outputs": [],
   "source": [
    "import numpy as np                     #for working with array of numbers \n",
    "import pandas as pd                    #for manipulating datasets\n",
    "import matplotlib.pyplot as plt       #creating figures, creates a plotting area in a figure, plots some lines in a plotting area, decorates the plot with labels.\n",
    "import seaborn as sns                 #for high-level interface for drawing attractive and informative statistical graphics.\n",
    "%matplotlib inline\n",
    "import warnings                      #useful to alert the user of some condition in a program\n",
    "warnings.filterwarnings(\"ignore\")"
   ]
  },
  {
   "cell_type": "code",
   "execution_count": null,
   "metadata": {},
   "outputs": [],
   "source": [
    "df = pd.read_csv('online_retail.csv')  #load the dataset as Data\n",
    "df.info()                              #return the dataset information\n",
    "df.isnull().sum()  "
   ]
  },
  {
   "cell_type": "code",
   "execution_count": null,
   "metadata": {},
   "outputs": [],
   "source": [
    "df.shape"
   ]
  },
  {
   "cell_type": "code",
   "execution_count": null,
   "metadata": {},
   "outputs": [],
   "source": [
    "df.describe()"
   ]
  },
  {
   "cell_type": "code",
   "execution_count": null,
   "metadata": {},
   "outputs": [],
   "source": [
    "df.isna().sum()"
   ]
  },
  {
   "cell_type": "code",
   "execution_count": null,
   "metadata": {},
   "outputs": [],
   "source": [
    "df.duplicated().sum()"
   ]
  },
  {
   "cell_type": "code",
   "execution_count": null,
   "metadata": {},
   "outputs": [],
   "source": [
    "df.drop(columns=['index'],inplace=True)"
   ]
  },
  {
   "cell_type": "code",
   "execution_count": null,
   "metadata": {},
   "outputs": [],
   "source": [
    "len(df['Description'].unique())"
   ]
  },
  {
   "cell_type": "markdown",
   "metadata": {},
   "source": [
    "## EXPLORALOTRY DATA ANALYSIS BELOW"
   ]
  },
  {
   "cell_type": "code",
   "execution_count": null,
   "metadata": {},
   "outputs": [],
   "source": [
    "import plotly.express as px\n",
    "import matplotlib.pyplot as plt\n",
    "import seaborn as sns"
   ]
  },
  {
   "cell_type": "code",
   "execution_count": null,
   "metadata": {},
   "outputs": [],
   "source": [
    "Most_buyed_product=df.groupby(by='Description').agg({'Quantity':'sum'}).sort_values(by='Quantity',ascending=False).reset_index().head(15)\n",
    "Most_buyed_product"
   ]
  },
  {
   "cell_type": "code",
   "execution_count": null,
   "metadata": {},
   "outputs": [],
   "source": [
    "import plotly.express as px\n",
    "fig=px.bar(Most_buyed_product,x='Description',y='Quantity',title='Top 15 Most Buyed Product')\n",
    "fig"
   ]
  },
  {
   "cell_type": "code",
   "execution_count": null,
   "metadata": {},
   "outputs": [],
   "source": [
    "# Average Sales per Country\n",
    "Most_buyed_product = df.groupby(\"Country\")[\"Quantity\"].mean().sort_values()\n",
    "\n",
    "plt.figure(figsize = (12, 7), dpi = 150)\n",
    "sns.barplot(x = Most_buyed_product.values, y = Most_buyed_product.index)\n",
    "plt.xlabel(\"Most_buyed_product\")\n",
    "plt.ylabel(\"Country\")\n",
    "plt.title(\"Description\")"
   ]
  },
  {
   "cell_type": "code",
   "execution_count": null,
   "metadata": {},
   "outputs": [],
   "source": [
    "top_products_countrywise=df.groupby(['Country','Description']).agg({'Quantity':'sum'}).reset_index()\n",
    "top_products_countrywise"
   ]
  },
  {
   "cell_type": "code",
   "execution_count": null,
   "metadata": {},
   "outputs": [],
   "source": [
    "countries=list(df['Country'].unique())\n",
    "countries"
   ]
  },
  {
   "cell_type": "code",
   "execution_count": null,
   "metadata": {},
   "outputs": [],
   "source": [
    "## Word clouds are used often in summarizing huge amounts of data, especially in research, documentation, manuals, academia, and other text data. They are also often used in marketing functions to have a quick overview of customer pain points from voice of the customer analysis.\n",
    "\n",
    "from wordcloud import WordCloud"
   ]
  },
  {
   "cell_type": "code",
   "execution_count": null,
   "metadata": {},
   "outputs": [],
   "source": [
    "text=[]\n",
    "for i in countries:\n",
    "    i=i.replace(' ','')\n",
    "    text.append(i)\n",
    "text=','.join(text)\n",
    "wordcloud=WordCloud(width=1600,height=1200 , background_color='white').generate(text)\n",
    "plt.title('Countries')\n",
    "plt.imshow(wordcloud)\n",
    "plt.axis('off')\n",
    "plt.show()"
   ]
  },
  {
   "cell_type": "markdown",
   "metadata": {},
   "source": [
    "## Quarterly Sales below"
   ]
  },
  {
   "cell_type": "code",
   "execution_count": null,
   "metadata": {},
   "outputs": [],
   "source": [
    "df[\"Quarterly\"] = pd.PeriodIndex(df[\"InvoiceDate\"], freq= 'Q')\n",
    "quarterly_sales = df.groupby(\"Quarterly\")[\"Quantity\"].sum()\n",
    "\n",
    "plt.figure(dpi = 100)\n",
    "plt.pie(quarterly_sales, labels = [\"2010 Q4\", \"2011 Q1\", \"2011 Q2\", \"2011 Q3\", \"2011 Q4\"], autopct = \"%1.1f%%\")\n",
    "plt.title(\"Quarterly Sales\")"
   ]
  },
  {
   "cell_type": "code",
   "execution_count": null,
   "metadata": {},
   "outputs": [],
   "source": [
    "fig, axes=plt.subplots(nrows=19,ncols=2 ,figsize=(25,150))\n",
    "Top_Products_Countrywise=pd.DataFrame(columns=['country','Top_Product'])\n",
    "for i,country in enumerate(countries):\n",
    "    row=i//2\n",
    "    col=i%2\n",
    "    temp_df=top_products_countrywise[top_products_countrywise['Country']==country].sort_values(by='Quantity',ascending=False).head(10)\n",
    "    Top_Products_Countrywise=pd.concat([Top_Products_Countrywise, pd.DataFrame({'country': [country], 'Top_Product': [temp_df.head(1)['Description'].values[0]]})], ignore_index=True)\n",
    "    sns.barplot(temp_df,x='Quantity',y='Description',ax=axes[row,col])\n",
    "    axes[row,col].set_title(country)"
   ]
  },
  {
   "cell_type": "markdown",
   "metadata": {},
   "source": [
    "## Top Product For Each Country"
   ]
  },
  {
   "cell_type": "code",
   "execution_count": null,
   "metadata": {},
   "outputs": [],
   "source": [
    "Top_Products_Countrywise"
   ]
  },
  {
   "cell_type": "code",
   "execution_count": null,
   "metadata": {},
   "outputs": [],
   "source": [
    "df.groupby('InvoiceDate')['UnitPrice'].mean().plot(figsize=(12, 8))\n",
    "plt.xlabel('Month')\n",
    "plt.ylabel('Average Unit Price')\n",
    "plt.title('Average Unit Price Trend')\n",
    "plt.show()"
   ]
  },
  {
   "cell_type": "markdown",
   "metadata": {},
   "source": [
    "## Top Product For Each Year"
   ]
  },
  {
   "cell_type": "code",
   "execution_count": null,
   "metadata": {},
   "outputs": [],
   "source": [
    "from datetime import datetime"
   ]
  },
  {
   "cell_type": "code",
   "execution_count": null,
   "metadata": {},
   "outputs": [],
   "source": [
    "df['InvoiceDate']=pd.to_datetime(df['InvoiceDate'])\n",
    "df['Invoice_year']=df['InvoiceDate'].dt.year\n",
    "df['Invoice_month']=df['InvoiceDate'].dt.month\n",
    "df['Invoice_hour']=df['InvoiceDate'].dt.hour"
   ]
  },
  {
   "cell_type": "code",
   "execution_count": null,
   "metadata": {},
   "outputs": [],
   "source": [
    "df.sample(3)"
   ]
  },
  {
   "cell_type": "code",
   "execution_count": null,
   "metadata": {},
   "outputs": [],
   "source": [
    "df['Invoice_year'].unique()"
   ]
  },
  {
   "cell_type": "code",
   "execution_count": null,
   "metadata": {},
   "outputs": [],
   "source": [
    "year_2010_df=df[df['Invoice_year']==2010]\n",
    "year_2010_df=year_2010_df.groupby(by='Description').agg({'Quantity':'sum'}).reset_index().sort_values(by='Quantity',ascending=False)\n",
    "year_2010_df"
   ]
  },
  {
   "cell_type": "code",
   "execution_count": null,
   "metadata": {},
   "outputs": [],
   "source": [
    "year_2011_df=df[df['Invoice_year']==2011]\n",
    "year_2011_df=year_2011_df.groupby(by='Description').agg({'Quantity':'sum'}).reset_index().sort_values(by='Quantity',ascending=False)\n",
    "year_2011_df"
   ]
  },
  {
   "cell_type": "code",
   "execution_count": null,
   "metadata": {},
   "outputs": [],
   "source": [
    "fig,axes=plt.subplots(nrows=2,ncols=1,figsize=(20,20))\n",
    "sns.barplot(year_2010_df.head(10),x='Quantity',y='Description',ax=axes[0])\n",
    "axes[0].set_title('YEAR 2010')\n",
    "sns.barplot(year_2011_df.head(10),x='Quantity',y='Description',ax=axes[1])\n",
    "axes[1].set_title('YEAR 2011')"
   ]
  },
  {
   "cell_type": "markdown",
   "metadata": {},
   "source": [
    "## Monthly Top Product"
   ]
  },
  {
   "cell_type": "code",
   "execution_count": null,
   "metadata": {},
   "outputs": [],
   "source": [
    "top_products_monthly=df.groupby(by=['Invoice_month','Description']).agg({'Quantity':'sum'}).reset_index()\n",
    "top_products_monthly"
   ]
  },
  {
   "cell_type": "code",
   "execution_count": null,
   "metadata": {},
   "outputs": [],
   "source": [
    "top_products_monthly[top_products_monthly['Invoice_month']==1].sort_values(by='Quantity',ascending=False).head(10)"
   ]
  },
  {
   "cell_type": "code",
   "execution_count": null,
   "metadata": {},
   "outputs": [],
   "source": [
    "fig,axes=plt.subplots(nrows=6,ncols=2,figsize=(25,80))\n",
    "for i in range(0,12):\n",
    "    row=i//2\n",
    "    col=i%2\n",
    "    temp_df=top_products_monthly[top_products_monthly['Invoice_month']==i+1].sort_values(by='Quantity',ascending=False).head(10)\n",
    "    sns.barplot(temp_df,x='Quantity',y='Description',ax=axes[row,col])\n",
    "    axes[row,col].set_title(i+1)"
   ]
  },
  {
   "cell_type": "markdown",
   "metadata": {},
   "source": [
    "## Each Month Analysis"
   ]
  },
  {
   "cell_type": "code",
   "execution_count": null,
   "metadata": {},
   "outputs": [],
   "source": [
    "df.groupby(by=['Invoice_month']).agg({'Quantity':'sum'}).reset_index()"
   ]
  },
  {
   "cell_type": "code",
   "execution_count": null,
   "metadata": {},
   "outputs": [],
   "source": [
    "fig=px.line(df.groupby(by=['Invoice_month']).agg({'Quantity':'sum'}).reset_index(),x='Invoice_month',y='Quantity',title='Monthly sales')\n",
    "fig.show()"
   ]
  },
  {
   "cell_type": "markdown",
   "metadata": {},
   "source": [
    "## Findings: while doing the analysis, i discovered most of the sales was during November however, i wikk carry out more Analysis on the Hourly sales."
   ]
  },
  {
   "cell_type": "markdown",
   "metadata": {},
   "source": [
    "## HOURLY SALES ANALYSIS"
   ]
  },
  {
   "cell_type": "code",
   "execution_count": null,
   "metadata": {},
   "outputs": [],
   "source": [
    "df.groupby(by='Invoice_hour').agg({'Quantity':'sum'}).reset_index()\n",
    "fig=px.bar(df.groupby(by='Invoice_hour').agg({'Quantity':'sum'}).reset_index(),x='Invoice_hour',y='Quantity',title='Hourly Sale')\n",
    "fig.show()"
   ]
  },
  {
   "cell_type": "markdown",
   "metadata": {},
   "source": [
    "## The bar chart shows that the buysiest hour of the day is between 10:00 and 15:00"
   ]
  },
  {
   "cell_type": "code",
   "execution_count": null,
   "metadata": {},
   "outputs": [],
   "source": [
    "Most_freq_cust=pd.DataFrame(df['CustomerID'].value_counts().head(10)).reset_index()\n",
    "Most_freq_cust"
   ]
  },
  {
   "cell_type": "code",
   "execution_count": null,
   "metadata": {},
   "outputs": [],
   "source": [
    "sns.barplot(Most_freq_cust,x='CustomerID',y='count')\n",
    "plt.tick_params(axis='x',rotation=90)\n",
    "plt.title('Most Frequent Customers')\n",
    "plt.ylabel('No. of Orders')\n",
    "plt.show()"
   ]
  },
  {
   "cell_type": "code",
   "execution_count": null,
   "metadata": {},
   "outputs": [],
   "source": [
    "df['Total_amount_paid']=df['Quantity']*df['UnitPrice']\n",
    "top_customers=df[df['CustomerID'].isin(Most_freq_cust['CustomerID'])][['CustomerID','Country','Description','Quantity','Total_amount_paid']]\n",
    "top_customers"
   ]
  },
  {
   "cell_type": "code",
   "execution_count": null,
   "metadata": {},
   "outputs": [],
   "source": [
    "top_customers[['CustomerID','Country']].drop_duplicates() "
   ]
  },
  {
   "cell_type": "code",
   "execution_count": null,
   "metadata": {},
   "outputs": [],
   "source": [
    "customer_Total_payments=df.groupby(by='CustomerID').agg({'Total_amount_paid':'sum'}).reset_index().sort_values(by='Total_amount_paid',ascending=False)\n",
    "customer_Total_payments"
   ]
  },
  {
   "cell_type": "markdown",
   "metadata": {},
   "source": [
    "## total amount paid by each customer"
   ]
  },
  {
   "cell_type": "code",
   "execution_count": null,
   "metadata": {},
   "outputs": [],
   "source": [
    "Top_customer_total_payment=pd.merge(df[df['CustomerID'].isin(customer_Total_payments.head(10)['CustomerID'])][['CustomerID','Country']].drop_duplicates()\n",
    ",customer_Total_payments.head(10),how='inner').sort_values(by='Total_amount_paid',ascending=False)\n",
    "Top_customer_total_payment"
   ]
  },
  {
   "cell_type": "code",
   "execution_count": null,
   "metadata": {},
   "outputs": [],
   "source": [
    "sns.barplot(Top_customer_total_payment,x='CustomerID',y='Total_amount_paid',hue='Country',dodge=False)\n",
    "plt.tick_params(axis='x',rotation=90)\n",
    "plt.title('Top customer_total_payment')\n",
    "plt.show()"
   ]
  },
  {
   "cell_type": "markdown",
   "metadata": {},
   "source": [
    "## CUSTOMERS PER EACH COUNTRY"
   ]
  },
  {
   "cell_type": "code",
   "execution_count": null,
   "metadata": {},
   "outputs": [],
   "source": [
    "pd.DataFrame(df['Country'].value_counts()).reset_index()"
   ]
  },
  {
   "cell_type": "code",
   "execution_count": null,
   "metadata": {},
   "outputs": [],
   "source": [
    "fig=px.bar(pd.DataFrame(df['Country'].value_counts()).reset_index(),y='Country',x='count')\n",
    "fig.show()"
   ]
  },
  {
   "cell_type": "markdown",
   "metadata": {},
   "source": [
    "## From the analysis so far, ataset Most of the Customers are from United kingdom"
   ]
  },
  {
   "cell_type": "markdown",
   "metadata": {},
   "source": [
    "## Total paid by each customers"
   ]
  },
  {
   "cell_type": "code",
   "execution_count": null,
   "metadata": {},
   "outputs": [],
   "source": [
    "Total_amount_paid_per_country=df.groupby('Country').agg({'Total_amount_paid':'sum'}).reset_index()\n",
    "Total_amount_paid_per_country"
   ]
  },
  {
   "cell_type": "code",
   "execution_count": null,
   "metadata": {},
   "outputs": [],
   "source": [
    "fig=px.bar(Total_amount_paid_per_country,x='Country',y='Total_amount_paid',title='Total amount paid per country ')\n",
    "fig.show()"
   ]
  },
  {
   "cell_type": "code",
   "execution_count": null,
   "metadata": {},
   "outputs": [],
   "source": [
    "## GeoPandas provides a high-level interface to the matplotlib library for making maps.\n",
    "import geopandas as gpd\n",
    "from mpl_toolkits.axes_grid1 import make_axes_locatable\n",
    "country_sales = df.groupby('Country')['Total_amount_paid'].sum().reset_index()\n",
    "world = gpd.read_file(gpd.datasets.get_path('naturalearth_lowres'))\n",
    "world = world.merge(country_sales, how='left', left_on='name', right_on='Country')\n",
    "\n",
    "\n",
    "fig, ax = plt.subplots(1, 1, figsize=(15, 10))\n",
    "divider = make_axes_locatable(ax)\n",
    "cax = divider.append_axes(\"right\", size=\"5%\", pad=0.1)\n",
    "world.plot(column='Total_amount_paid', ax=ax, legend=True, cax=cax,legend_kwds={'label': \"Total Amount Paid by Country\"})\n",
    "ax.set_title('Distribution of Sales Across Different Countries')\n",
    "plt.show()"
   ]
  },
  {
   "cell_type": "markdown",
   "metadata": {},
   "source": [
    "## Examine the correlation between numerical variables"
   ]
  },
  {
   "cell_type": "code",
   "execution_count": null,
   "metadata": {},
   "outputs": [],
   "source": [
    "numeric_columns = df.select_dtypes(include=[np.number])\n",
    "numeric_columns.dropna(inplace=True)\n",
    "correlation_matrix = numeric_columns.corr()\n",
    "sns.heatmap(correlation_matrix, annot=True, cmap='coolwarm', fmt=\".2f\")\n",
    "plt.title('Correlation Matrix')\n",
    "plt.show()"
   ]
  }
 ],
 "metadata": {
  "kernelspec": {
   "display_name": "Python 3",
   "language": "python",
   "name": "python3"
  },
  "language_info": {
   "codemirror_mode": {
    "name": "ipython",
    "version": 3
   },
   "file_extension": ".py",
   "mimetype": "text/x-python",
   "name": "python",
   "nbconvert_exporter": "python",
   "pygments_lexer": "ipython3",
   "version": "3.11.0"
  }
 },
 "nbformat": 4,
 "nbformat_minor": 2
}
